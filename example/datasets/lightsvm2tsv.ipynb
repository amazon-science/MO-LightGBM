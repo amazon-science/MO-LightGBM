{
 "cells": [
  {
   "cell_type": "code",
   "execution_count": 11,
   "id": "490aa029",
   "metadata": {},
   "outputs": [],
   "source": [
    "import sys\n",
    "import csv\n",
    "\n",
    "# input_file = 'set2.train.txt'\n",
    "# output_file = 'set2.train.txt.tsv'\n",
    "# input_file = 'set2.test.txt'\n",
    "# output_file = 'set2.test.txt.tsv'\n",
    "# input_file = 'set2.valid.txt'\n",
    "# output_file = 'set2.valid.txt.tsv'\n",
    "\n",
    "# input_file = 'istella-s-letor/sample/train.txt'\n",
    "# output_file = 'istella-s-letor/sample/train.txt.tsv'\n",
    "# input_file = 'istella-s-letor/sample/vali.txt'\n",
    "# output_file = 'istella-s-letor/sample/vali.txt.tsv'\n",
    "# input_file = 'istella-s-letor/sample/test.txt'\n",
    "# output_file = 'istella-s-letor/sample/test.txt.tsv'\n",
    "\n",
    "# input_file = 'istella-letor/full/train.txt'\n",
    "# output_file = 'istella-letor/full/train.txt.tsv'\n",
    "input_file = 'istella-letor/full/test.txt'\n",
    "output_file = 'istella-letor/full/test.txt.tsv'\n",
    "\n",
    "d = 220\n",
    "assert ( d > 0 )\n",
    "\n",
    "reader = csv.reader( open( input_file ), delimiter = \" \" )\n",
    "writer = csv.writer( open( output_file, 'w' ), delimiter='\\t')\n"
   ]
  },
  {
   "cell_type": "code",
   "execution_count": 12,
   "id": "2995f4bf",
   "metadata": {},
   "outputs": [],
   "source": [
    "for index, line in enumerate(reader):\n",
    "    label = line.pop( 0 )\n",
    "    qid = line.pop( 0 ).split( \":\" )[1]\n",
    "    if line[-1].strip() == '':\n",
    "        line.pop(-1)\n",
    "#         print(index, line)\n",
    "\n",
    "    line = map( lambda x: tuple( x.split( \":\" )), line )\n",
    "    new_line = [ label ] + [ qid ] + [ 0 ] * d\n",
    "    for i, v in line:\n",
    "        i = int(i)\n",
    "        if i <= d:\n",
    "            new_line[i+1] = v\n",
    "#     if index == 34879:\n",
    "#         print(index, new_line)\n",
    "#     print(new_line)\n",
    "    writer.writerow( new_line )"
   ]
  },
  {
   "cell_type": "code",
   "execution_count": null,
   "id": "02b9484d",
   "metadata": {},
   "outputs": [],
   "source": []
  }
 ],
 "metadata": {
  "kernelspec": {
   "display_name": "conda_pytorch_p36",
   "language": "python",
   "name": "conda_pytorch_p36"
  },
  "language_info": {
   "codemirror_mode": {
    "name": "ipython",
    "version": 3
   },
   "file_extension": ".py",
   "mimetype": "text/x-python",
   "name": "python",
   "nbconvert_exporter": "python",
   "pygments_lexer": "ipython3",
   "version": "3.6.13"
  }
 },
 "nbformat": 4,
 "nbformat_minor": 5
}
