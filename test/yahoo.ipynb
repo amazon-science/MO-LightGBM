{
 "cells": [
  {
   "cell_type": "code",
   "execution_count": 1,
   "id": "46e1487f",
   "metadata": {},
   "outputs": [],
   "source": [
    "import pandas as pd\n",
    "import os"
   ]
  },
  {
   "cell_type": "markdown",
   "id": "c415ca29",
   "metadata": {},
   "source": [
    "### Add column names"
   ]
  },
  {
   "cell_type": "code",
   "execution_count": 35,
   "id": "b639b62d",
   "metadata": {},
   "outputs": [
    {
     "name": "stdout",
     "output_type": "stream",
     "text": [
      "set2.train.txt.tsv (34815, 702)\n",
      "set2.valid.txt.tsv (34879, 702)\n",
      "set2.test.txt.tsv (103174, 702)\n"
     ]
    }
   ],
   "source": [
    "datafolder = \"./datasets/yahoo\"\n",
    "input_files = [\"set2.train.txt.tsv\", \"set2.valid.txt.tsv\", \"set2.test.txt.tsv\"]\n",
    "output_files = [\"train.tsv\", \"valid.tsv\", \"test.tsv\"]\n",
    "for ipf, opf in zip(input_files, output_files):\n",
    "    df = pd.read_csv(os.path.join(datafolder, ipf), sep='\\t', header=None)\n",
    "    print(ipf, df.shape)\n",
    "    df.to_csv(os.path.join(datafolder, opf), sep='\\t', index=False)"
   ]
  },
  {
   "cell_type": "markdown",
   "id": "91520b83",
   "metadata": {},
   "source": [
    "### Decide mo_labels"
   ]
  },
  {
   "cell_type": "code",
   "execution_count": 37,
   "id": "d5a857f0",
   "metadata": {},
   "outputs": [
    {
     "data": {
      "text/html": [
       "<div>\n",
       "<style scoped>\n",
       "    .dataframe tbody tr th:only-of-type {\n",
       "        vertical-align: middle;\n",
       "    }\n",
       "\n",
       "    .dataframe tbody tr th {\n",
       "        vertical-align: top;\n",
       "    }\n",
       "\n",
       "    .dataframe thead th {\n",
       "        text-align: right;\n",
       "    }\n",
       "</style>\n",
       "<table border=\"1\" class=\"dataframe\">\n",
       "  <thead>\n",
       "    <tr style=\"text-align: right;\">\n",
       "      <th></th>\n",
       "      <th>0</th>\n",
       "      <th>1</th>\n",
       "      <th>2</th>\n",
       "      <th>3</th>\n",
       "      <th>4</th>\n",
       "      <th>5</th>\n",
       "      <th>6</th>\n",
       "      <th>7</th>\n",
       "      <th>8</th>\n",
       "      <th>9</th>\n",
       "      <th>...</th>\n",
       "      <th>692</th>\n",
       "      <th>693</th>\n",
       "      <th>694</th>\n",
       "      <th>695</th>\n",
       "      <th>696</th>\n",
       "      <th>697</th>\n",
       "      <th>698</th>\n",
       "      <th>699</th>\n",
       "      <th>700</th>\n",
       "      <th>701</th>\n",
       "    </tr>\n",
       "  </thead>\n",
       "  <tbody>\n",
       "    <tr>\n",
       "      <th>0</th>\n",
       "      <td>0</td>\n",
       "      <td>1</td>\n",
       "      <td>2.0</td>\n",
       "      <td>3.0</td>\n",
       "      <td>4.00000</td>\n",
       "      <td>5.0</td>\n",
       "      <td>6.0</td>\n",
       "      <td>7.00000</td>\n",
       "      <td>8.0000</td>\n",
       "      <td>9.00000</td>\n",
       "      <td>...</td>\n",
       "      <td>692.0</td>\n",
       "      <td>693.0</td>\n",
       "      <td>694.0</td>\n",
       "      <td>695.00000</td>\n",
       "      <td>696.0</td>\n",
       "      <td>697.0</td>\n",
       "      <td>698.000000</td>\n",
       "      <td>699.00000</td>\n",
       "      <td>700.00000</td>\n",
       "      <td>701.0</td>\n",
       "    </tr>\n",
       "    <tr>\n",
       "      <th>1</th>\n",
       "      <td>1</td>\n",
       "      <td>29922</td>\n",
       "      <td>0.0</td>\n",
       "      <td>0.0</td>\n",
       "      <td>0.00000</td>\n",
       "      <td>0.0</td>\n",
       "      <td>0.0</td>\n",
       "      <td>0.00000</td>\n",
       "      <td>0.0000</td>\n",
       "      <td>0.90099</td>\n",
       "      <td>...</td>\n",
       "      <td>0.0</td>\n",
       "      <td>0.0</td>\n",
       "      <td>0.0</td>\n",
       "      <td>0.50430</td>\n",
       "      <td>0.0</td>\n",
       "      <td>0.0</td>\n",
       "      <td>0.046567</td>\n",
       "      <td>0.00000</td>\n",
       "      <td>0.67177</td>\n",
       "      <td>0.0</td>\n",
       "    </tr>\n",
       "    <tr>\n",
       "      <th>2</th>\n",
       "      <td>2</td>\n",
       "      <td>29922</td>\n",
       "      <td>0.0</td>\n",
       "      <td>0.0</td>\n",
       "      <td>0.00000</td>\n",
       "      <td>0.0</td>\n",
       "      <td>0.0</td>\n",
       "      <td>0.00000</td>\n",
       "      <td>0.0000</td>\n",
       "      <td>0.00000</td>\n",
       "      <td>...</td>\n",
       "      <td>0.0</td>\n",
       "      <td>0.0</td>\n",
       "      <td>0.0</td>\n",
       "      <td>0.55425</td>\n",
       "      <td>0.0</td>\n",
       "      <td>0.0</td>\n",
       "      <td>0.046567</td>\n",
       "      <td>0.00000</td>\n",
       "      <td>0.57433</td>\n",
       "      <td>0.0</td>\n",
       "    </tr>\n",
       "    <tr>\n",
       "      <th>3</th>\n",
       "      <td>2</td>\n",
       "      <td>29922</td>\n",
       "      <td>0.0</td>\n",
       "      <td>0.0</td>\n",
       "      <td>0.85361</td>\n",
       "      <td>0.0</td>\n",
       "      <td>0.0</td>\n",
       "      <td>0.99392</td>\n",
       "      <td>0.0000</td>\n",
       "      <td>0.74949</td>\n",
       "      <td>...</td>\n",
       "      <td>0.0</td>\n",
       "      <td>0.0</td>\n",
       "      <td>0.0</td>\n",
       "      <td>0.45057</td>\n",
       "      <td>0.0</td>\n",
       "      <td>0.0</td>\n",
       "      <td>0.046567</td>\n",
       "      <td>0.00000</td>\n",
       "      <td>0.80732</td>\n",
       "      <td>0.0</td>\n",
       "    </tr>\n",
       "    <tr>\n",
       "      <th>4</th>\n",
       "      <td>1</td>\n",
       "      <td>29922</td>\n",
       "      <td>0.0</td>\n",
       "      <td>0.0</td>\n",
       "      <td>0.00000</td>\n",
       "      <td>0.0</td>\n",
       "      <td>0.0</td>\n",
       "      <td>0.00000</td>\n",
       "      <td>0.8087</td>\n",
       "      <td>0.00000</td>\n",
       "      <td>...</td>\n",
       "      <td>0.0</td>\n",
       "      <td>0.0</td>\n",
       "      <td>0.0</td>\n",
       "      <td>0.41013</td>\n",
       "      <td>0.0</td>\n",
       "      <td>0.0</td>\n",
       "      <td>0.046567</td>\n",
       "      <td>0.61889</td>\n",
       "      <td>0.88279</td>\n",
       "      <td>0.0</td>\n",
       "    </tr>\n",
       "    <tr>\n",
       "      <th>...</th>\n",
       "      <td>...</td>\n",
       "      <td>...</td>\n",
       "      <td>...</td>\n",
       "      <td>...</td>\n",
       "      <td>...</td>\n",
       "      <td>...</td>\n",
       "      <td>...</td>\n",
       "      <td>...</td>\n",
       "      <td>...</td>\n",
       "      <td>...</td>\n",
       "      <td>...</td>\n",
       "      <td>...</td>\n",
       "      <td>...</td>\n",
       "      <td>...</td>\n",
       "      <td>...</td>\n",
       "      <td>...</td>\n",
       "      <td>...</td>\n",
       "      <td>...</td>\n",
       "      <td>...</td>\n",
       "      <td>...</td>\n",
       "      <td>...</td>\n",
       "    </tr>\n",
       "    <tr>\n",
       "      <th>34811</th>\n",
       "      <td>1</td>\n",
       "      <td>31187</td>\n",
       "      <td>0.0</td>\n",
       "      <td>0.0</td>\n",
       "      <td>0.67740</td>\n",
       "      <td>0.0</td>\n",
       "      <td>0.0</td>\n",
       "      <td>0.88011</td>\n",
       "      <td>0.0000</td>\n",
       "      <td>0.00000</td>\n",
       "      <td>...</td>\n",
       "      <td>0.0</td>\n",
       "      <td>0.0</td>\n",
       "      <td>0.0</td>\n",
       "      <td>0.10233</td>\n",
       "      <td>0.0</td>\n",
       "      <td>0.0</td>\n",
       "      <td>0.046567</td>\n",
       "      <td>0.00000</td>\n",
       "      <td>0.67177</td>\n",
       "      <td>0.0</td>\n",
       "    </tr>\n",
       "    <tr>\n",
       "      <th>34812</th>\n",
       "      <td>2</td>\n",
       "      <td>31187</td>\n",
       "      <td>0.0</td>\n",
       "      <td>0.0</td>\n",
       "      <td>0.95294</td>\n",
       "      <td>0.0</td>\n",
       "      <td>0.0</td>\n",
       "      <td>0.84166</td>\n",
       "      <td>0.8087</td>\n",
       "      <td>0.00000</td>\n",
       "      <td>...</td>\n",
       "      <td>0.0</td>\n",
       "      <td>0.0</td>\n",
       "      <td>0.0</td>\n",
       "      <td>0.18639</td>\n",
       "      <td>0.0</td>\n",
       "      <td>0.0</td>\n",
       "      <td>0.046567</td>\n",
       "      <td>0.61889</td>\n",
       "      <td>0.27948</td>\n",
       "      <td>0.0</td>\n",
       "    </tr>\n",
       "    <tr>\n",
       "      <th>34813</th>\n",
       "      <td>1</td>\n",
       "      <td>31187</td>\n",
       "      <td>0.0</td>\n",
       "      <td>0.0</td>\n",
       "      <td>0.68923</td>\n",
       "      <td>0.0</td>\n",
       "      <td>0.0</td>\n",
       "      <td>0.00000</td>\n",
       "      <td>0.0000</td>\n",
       "      <td>0.00000</td>\n",
       "      <td>...</td>\n",
       "      <td>0.0</td>\n",
       "      <td>0.0</td>\n",
       "      <td>0.0</td>\n",
       "      <td>0.00000</td>\n",
       "      <td>0.0</td>\n",
       "      <td>0.0</td>\n",
       "      <td>0.046567</td>\n",
       "      <td>0.61889</td>\n",
       "      <td>0.33166</td>\n",
       "      <td>0.0</td>\n",
       "    </tr>\n",
       "    <tr>\n",
       "      <th>34814</th>\n",
       "      <td>0</td>\n",
       "      <td>31187</td>\n",
       "      <td>0.0</td>\n",
       "      <td>0.0</td>\n",
       "      <td>0.00000</td>\n",
       "      <td>0.0</td>\n",
       "      <td>0.0</td>\n",
       "      <td>0.00000</td>\n",
       "      <td>0.0000</td>\n",
       "      <td>0.00000</td>\n",
       "      <td>...</td>\n",
       "      <td>0.0</td>\n",
       "      <td>0.0</td>\n",
       "      <td>0.0</td>\n",
       "      <td>0.00000</td>\n",
       "      <td>0.0</td>\n",
       "      <td>0.0</td>\n",
       "      <td>0.046567</td>\n",
       "      <td>0.00000</td>\n",
       "      <td>0.74349</td>\n",
       "      <td>0.0</td>\n",
       "    </tr>\n",
       "    <tr>\n",
       "      <th>34815</th>\n",
       "      <td>1</td>\n",
       "      <td>31187</td>\n",
       "      <td>0.0</td>\n",
       "      <td>0.0</td>\n",
       "      <td>0.83487</td>\n",
       "      <td>0.0</td>\n",
       "      <td>0.0</td>\n",
       "      <td>0.88009</td>\n",
       "      <td>0.8087</td>\n",
       "      <td>0.00000</td>\n",
       "      <td>...</td>\n",
       "      <td>0.0</td>\n",
       "      <td>0.0</td>\n",
       "      <td>0.0</td>\n",
       "      <td>0.63362</td>\n",
       "      <td>0.0</td>\n",
       "      <td>0.0</td>\n",
       "      <td>0.046567</td>\n",
       "      <td>0.00000</td>\n",
       "      <td>0.45254</td>\n",
       "      <td>0.0</td>\n",
       "    </tr>\n",
       "  </tbody>\n",
       "</table>\n",
       "<p>34816 rows × 702 columns</p>\n",
       "</div>"
      ],
      "text/plain": [
       "       0      1    2    3        4    5    6        7       8        9    ...  \\\n",
       "0        0      1  2.0  3.0  4.00000  5.0  6.0  7.00000  8.0000  9.00000  ...   \n",
       "1        1  29922  0.0  0.0  0.00000  0.0  0.0  0.00000  0.0000  0.90099  ...   \n",
       "2        2  29922  0.0  0.0  0.00000  0.0  0.0  0.00000  0.0000  0.00000  ...   \n",
       "3        2  29922  0.0  0.0  0.85361  0.0  0.0  0.99392  0.0000  0.74949  ...   \n",
       "4        1  29922  0.0  0.0  0.00000  0.0  0.0  0.00000  0.8087  0.00000  ...   \n",
       "...    ...    ...  ...  ...      ...  ...  ...      ...     ...      ...  ...   \n",
       "34811    1  31187  0.0  0.0  0.67740  0.0  0.0  0.88011  0.0000  0.00000  ...   \n",
       "34812    2  31187  0.0  0.0  0.95294  0.0  0.0  0.84166  0.8087  0.00000  ...   \n",
       "34813    1  31187  0.0  0.0  0.68923  0.0  0.0  0.00000  0.0000  0.00000  ...   \n",
       "34814    0  31187  0.0  0.0  0.00000  0.0  0.0  0.00000  0.0000  0.00000  ...   \n",
       "34815    1  31187  0.0  0.0  0.83487  0.0  0.0  0.88009  0.8087  0.00000  ...   \n",
       "\n",
       "         692    693    694        695    696    697         698        699  \\\n",
       "0      692.0  693.0  694.0  695.00000  696.0  697.0  698.000000  699.00000   \n",
       "1        0.0    0.0    0.0    0.50430    0.0    0.0    0.046567    0.00000   \n",
       "2        0.0    0.0    0.0    0.55425    0.0    0.0    0.046567    0.00000   \n",
       "3        0.0    0.0    0.0    0.45057    0.0    0.0    0.046567    0.00000   \n",
       "4        0.0    0.0    0.0    0.41013    0.0    0.0    0.046567    0.61889   \n",
       "...      ...    ...    ...        ...    ...    ...         ...        ...   \n",
       "34811    0.0    0.0    0.0    0.10233    0.0    0.0    0.046567    0.00000   \n",
       "34812    0.0    0.0    0.0    0.18639    0.0    0.0    0.046567    0.61889   \n",
       "34813    0.0    0.0    0.0    0.00000    0.0    0.0    0.046567    0.61889   \n",
       "34814    0.0    0.0    0.0    0.00000    0.0    0.0    0.046567    0.00000   \n",
       "34815    0.0    0.0    0.0    0.63362    0.0    0.0    0.046567    0.00000   \n",
       "\n",
       "             700    701  \n",
       "0      700.00000  701.0  \n",
       "1        0.67177    0.0  \n",
       "2        0.57433    0.0  \n",
       "3        0.80732    0.0  \n",
       "4        0.88279    0.0  \n",
       "...          ...    ...  \n",
       "34811    0.67177    0.0  \n",
       "34812    0.27948    0.0  \n",
       "34813    0.33166    0.0  \n",
       "34814    0.74349    0.0  \n",
       "34815    0.45254    0.0  \n",
       "\n",
       "[34816 rows x 702 columns]"
      ]
     },
     "execution_count": 37,
     "metadata": {},
     "output_type": "execute_result"
    }
   ],
   "source": [
    "df = pd.read_csv(os.path.join(datafolder, \"train.tsv\"), sep='\\t', header=None)\n",
    "df"
   ]
  },
  {
   "cell_type": "code",
   "execution_count": 32,
   "id": "f18947f9",
   "metadata": {},
   "outputs": [
    {
     "data": {
      "text/plain": [
       "(34815, 702)"
      ]
     },
     "execution_count": 32,
     "metadata": {},
     "output_type": "execute_result"
    }
   ],
   "source": [
    "df.shape"
   ]
  },
  {
   "cell_type": "code",
   "execution_count": 21,
   "id": "d19a2246",
   "metadata": {},
   "outputs": [
    {
     "data": {
      "text/plain": [
       "<AxesSubplot:>"
      ]
     },
     "execution_count": 21,
     "metadata": {},
     "output_type": "execute_result"
    },
    {
     "data": {
      "image/png": "[encoded data removed]",
      "text/plain": [
       "<Figure size 432x288 with 1 Axes>"
      ]
     },
     "metadata": {
      "needs_background": "light"
     },
     "output_type": "display_data"
    }
   ],
   "source": [
    "df[0].hist(bins=3)"
   ]
  },
  {
   "cell_type": "code",
   "execution_count": 26,
   "id": "1e034d56",
   "metadata": {},
   "outputs": [
    {
     "data": {
      "text/plain": [
       "array([[<AxesSubplot:title={'center':'0'}>,\n",
       "        <AxesSubplot:title={'center':'17'}>],\n",
       "       [<AxesSubplot:title={'center':'18'}>,\n",
       "        <AxesSubplot:title={'center':'19'}>],\n",
       "       [<AxesSubplot:title={'center':'20'}>,\n",
       "        <AxesSubplot:title={'center':'21'}>]], dtype=object)"
      ]
     },
     "execution_count": 26,
     "metadata": {},
     "output_type": "execute_result"
    },
    {
     "data": {
      "image/png": "[encoded data removed]",
      "text/plain": [
       "<Figure size 432x288 with 6 Axes>"
      ]
     },
     "metadata": {
      "needs_background": "light"
     },
     "output_type": "display_data"
    }
   ],
   "source": [
    "df[[0] + list(range(17,22))].hist(bins=3)"
   ]
  },
  {
   "cell_type": "code",
   "execution_count": 27,
   "id": "2a7fb398",
   "metadata": {},
   "outputs": [
    {
     "data": {
      "text/plain": [
       "array([[<AxesSubplot:title={'center':'0'}>,\n",
       "        <AxesSubplot:title={'center':'2'}>,\n",
       "        <AxesSubplot:title={'center':'8'}>],\n",
       "       [<AxesSubplot:title={'center':'18'}>,\n",
       "        <AxesSubplot:title={'center':'12'}>,\n",
       "        <AxesSubplot:title={'center':'13'}>],\n",
       "       [<AxesSubplot:title={'center':'19'}>, <AxesSubplot:>,\n",
       "        <AxesSubplot:>]], dtype=object)"
      ]
     },
     "execution_count": 27,
     "metadata": {},
     "output_type": "execute_result"
    },
    {
     "data": {
      "image/png": "[encoded data removed]",
      "text/plain": [
       "<Figure size 432x288 with 9 Axes>"
      ]
     },
     "metadata": {
      "needs_background": "light"
     },
     "output_type": "display_data"
    }
   ],
   "source": [
    "df[[0] + [2, 8, 18, 12, 13,  19]].hist(bins=3)"
   ]
  },
  {
   "cell_type": "code",
   "execution_count": 31,
   "id": "1209fbd2",
   "metadata": {},
   "outputs": [
    {
     "data": {
      "text/plain": [
       "0       5\n",
       "8      20\n",
       "18    136\n",
       "12     97\n",
       "13     19\n",
       "dtype: int64"
      ]
     },
     "execution_count": 31,
     "metadata": {},
     "output_type": "execute_result"
    }
   ],
   "source": [
    "# final mo_labels\n",
    "df[[0, 8, 18, 12,13]].nunique()"
   ]
  },
  {
   "cell_type": "code",
   "execution_count": null,
   "id": "1ddec66c",
   "metadata": {},
   "outputs": [],
   "source": []
  }
 ],
 "metadata": {
  "kernelspec": {
   "display_name": "conda_pytorch_latest_p36",
   "language": "python",
   "name": "conda_pytorch_latest_p36"
  },
  "language_info": {
   "codemirror_mode": {
    "name": "ipython",
    "version": 3
   },
   "file_extension": ".py",
   "mimetype": "text/x-python",
   "name": "python",
   "nbconvert_exporter": "python",
   "pygments_lexer": "ipython3",
   "version": "3.6.13"
  }
 },
 "nbformat": 4,
 "nbformat_minor": 5
}
